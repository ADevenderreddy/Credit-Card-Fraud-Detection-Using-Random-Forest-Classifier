{
 "cells": [
  {
   "cell_type": "code",
   "execution_count": 17,
   "id": "143e4284",
   "metadata": {},
   "outputs": [],
   "source": [
    "import pandas as pd\n",
    "from sklearn.model_selection import train_test_split\n",
    "from sklearn.ensemble import RandomForestClassifier\n",
    "from sklearn.metrics import accuracy_score,classification_report"
   ]
  },
  {
   "cell_type": "code",
   "execution_count": 2,
   "id": "9f562971",
   "metadata": {},
   "outputs": [],
   "source": [
    "credit_card = pd.read_csv('creditcard.csv')"
   ]
  },
  {
   "cell_type": "code",
   "execution_count": 3,
   "id": "ed0a7f72",
   "metadata": {},
   "outputs": [
    {
     "data": {
      "text/html": [
       "<div>\n",
       "<style scoped>\n",
       "    .dataframe tbody tr th:only-of-type {\n",
       "        vertical-align: middle;\n",
       "    }\n",
       "\n",
       "    .dataframe tbody tr th {\n",
       "        vertical-align: top;\n",
       "    }\n",
       "\n",
       "    .dataframe thead th {\n",
       "        text-align: right;\n",
       "    }\n",
       "</style>\n",
       "<table border=\"1\" class=\"dataframe\">\n",
       "  <thead>\n",
       "    <tr style=\"text-align: right;\">\n",
       "      <th></th>\n",
       "      <th>Time</th>\n",
       "      <th>V1</th>\n",
       "      <th>V2</th>\n",
       "      <th>V3</th>\n",
       "      <th>V4</th>\n",
       "      <th>V5</th>\n",
       "      <th>V6</th>\n",
       "      <th>V7</th>\n",
       "      <th>V8</th>\n",
       "      <th>V9</th>\n",
       "      <th>...</th>\n",
       "      <th>V21</th>\n",
       "      <th>V22</th>\n",
       "      <th>V23</th>\n",
       "      <th>V24</th>\n",
       "      <th>V25</th>\n",
       "      <th>V26</th>\n",
       "      <th>V27</th>\n",
       "      <th>V28</th>\n",
       "      <th>Amount</th>\n",
       "      <th>Class</th>\n",
       "    </tr>\n",
       "  </thead>\n",
       "  <tbody>\n",
       "    <tr>\n",
       "      <th>0</th>\n",
       "      <td>0.0</td>\n",
       "      <td>-1.359807</td>\n",
       "      <td>-0.072781</td>\n",
       "      <td>2.536347</td>\n",
       "      <td>1.378155</td>\n",
       "      <td>-0.338321</td>\n",
       "      <td>0.462388</td>\n",
       "      <td>0.239599</td>\n",
       "      <td>0.098698</td>\n",
       "      <td>0.363787</td>\n",
       "      <td>...</td>\n",
       "      <td>-0.018307</td>\n",
       "      <td>0.277838</td>\n",
       "      <td>-0.110474</td>\n",
       "      <td>0.066928</td>\n",
       "      <td>0.128539</td>\n",
       "      <td>-0.189115</td>\n",
       "      <td>0.133558</td>\n",
       "      <td>-0.021053</td>\n",
       "      <td>149.62</td>\n",
       "      <td>0</td>\n",
       "    </tr>\n",
       "    <tr>\n",
       "      <th>1</th>\n",
       "      <td>0.0</td>\n",
       "      <td>1.191857</td>\n",
       "      <td>0.266151</td>\n",
       "      <td>0.166480</td>\n",
       "      <td>0.448154</td>\n",
       "      <td>0.060018</td>\n",
       "      <td>-0.082361</td>\n",
       "      <td>-0.078803</td>\n",
       "      <td>0.085102</td>\n",
       "      <td>-0.255425</td>\n",
       "      <td>...</td>\n",
       "      <td>-0.225775</td>\n",
       "      <td>-0.638672</td>\n",
       "      <td>0.101288</td>\n",
       "      <td>-0.339846</td>\n",
       "      <td>0.167170</td>\n",
       "      <td>0.125895</td>\n",
       "      <td>-0.008983</td>\n",
       "      <td>0.014724</td>\n",
       "      <td>2.69</td>\n",
       "      <td>0</td>\n",
       "    </tr>\n",
       "    <tr>\n",
       "      <th>2</th>\n",
       "      <td>1.0</td>\n",
       "      <td>-1.358354</td>\n",
       "      <td>-1.340163</td>\n",
       "      <td>1.773209</td>\n",
       "      <td>0.379780</td>\n",
       "      <td>-0.503198</td>\n",
       "      <td>1.800499</td>\n",
       "      <td>0.791461</td>\n",
       "      <td>0.247676</td>\n",
       "      <td>-1.514654</td>\n",
       "      <td>...</td>\n",
       "      <td>0.247998</td>\n",
       "      <td>0.771679</td>\n",
       "      <td>0.909412</td>\n",
       "      <td>-0.689281</td>\n",
       "      <td>-0.327642</td>\n",
       "      <td>-0.139097</td>\n",
       "      <td>-0.055353</td>\n",
       "      <td>-0.059752</td>\n",
       "      <td>378.66</td>\n",
       "      <td>0</td>\n",
       "    </tr>\n",
       "    <tr>\n",
       "      <th>3</th>\n",
       "      <td>1.0</td>\n",
       "      <td>-0.966272</td>\n",
       "      <td>-0.185226</td>\n",
       "      <td>1.792993</td>\n",
       "      <td>-0.863291</td>\n",
       "      <td>-0.010309</td>\n",
       "      <td>1.247203</td>\n",
       "      <td>0.237609</td>\n",
       "      <td>0.377436</td>\n",
       "      <td>-1.387024</td>\n",
       "      <td>...</td>\n",
       "      <td>-0.108300</td>\n",
       "      <td>0.005274</td>\n",
       "      <td>-0.190321</td>\n",
       "      <td>-1.175575</td>\n",
       "      <td>0.647376</td>\n",
       "      <td>-0.221929</td>\n",
       "      <td>0.062723</td>\n",
       "      <td>0.061458</td>\n",
       "      <td>123.50</td>\n",
       "      <td>0</td>\n",
       "    </tr>\n",
       "    <tr>\n",
       "      <th>4</th>\n",
       "      <td>2.0</td>\n",
       "      <td>-1.158233</td>\n",
       "      <td>0.877737</td>\n",
       "      <td>1.548718</td>\n",
       "      <td>0.403034</td>\n",
       "      <td>-0.407193</td>\n",
       "      <td>0.095921</td>\n",
       "      <td>0.592941</td>\n",
       "      <td>-0.270533</td>\n",
       "      <td>0.817739</td>\n",
       "      <td>...</td>\n",
       "      <td>-0.009431</td>\n",
       "      <td>0.798278</td>\n",
       "      <td>-0.137458</td>\n",
       "      <td>0.141267</td>\n",
       "      <td>-0.206010</td>\n",
       "      <td>0.502292</td>\n",
       "      <td>0.219422</td>\n",
       "      <td>0.215153</td>\n",
       "      <td>69.99</td>\n",
       "      <td>0</td>\n",
       "    </tr>\n",
       "  </tbody>\n",
       "</table>\n",
       "<p>5 rows × 31 columns</p>\n",
       "</div>"
      ],
      "text/plain": [
       "   Time        V1        V2        V3        V4        V5        V6        V7  \\\n",
       "0   0.0 -1.359807 -0.072781  2.536347  1.378155 -0.338321  0.462388  0.239599   \n",
       "1   0.0  1.191857  0.266151  0.166480  0.448154  0.060018 -0.082361 -0.078803   \n",
       "2   1.0 -1.358354 -1.340163  1.773209  0.379780 -0.503198  1.800499  0.791461   \n",
       "3   1.0 -0.966272 -0.185226  1.792993 -0.863291 -0.010309  1.247203  0.237609   \n",
       "4   2.0 -1.158233  0.877737  1.548718  0.403034 -0.407193  0.095921  0.592941   \n",
       "\n",
       "         V8        V9  ...       V21       V22       V23       V24       V25  \\\n",
       "0  0.098698  0.363787  ... -0.018307  0.277838 -0.110474  0.066928  0.128539   \n",
       "1  0.085102 -0.255425  ... -0.225775 -0.638672  0.101288 -0.339846  0.167170   \n",
       "2  0.247676 -1.514654  ...  0.247998  0.771679  0.909412 -0.689281 -0.327642   \n",
       "3  0.377436 -1.387024  ... -0.108300  0.005274 -0.190321 -1.175575  0.647376   \n",
       "4 -0.270533  0.817739  ... -0.009431  0.798278 -0.137458  0.141267 -0.206010   \n",
       "\n",
       "        V26       V27       V28  Amount  Class  \n",
       "0 -0.189115  0.133558 -0.021053  149.62      0  \n",
       "1  0.125895 -0.008983  0.014724    2.69      0  \n",
       "2 -0.139097 -0.055353 -0.059752  378.66      0  \n",
       "3 -0.221929  0.062723  0.061458  123.50      0  \n",
       "4  0.502292  0.219422  0.215153   69.99      0  \n",
       "\n",
       "[5 rows x 31 columns]"
      ]
     },
     "execution_count": 3,
     "metadata": {},
     "output_type": "execute_result"
    }
   ],
   "source": [
    "credit_card.head()"
   ]
  },
  {
   "cell_type": "code",
   "execution_count": 4,
   "id": "f744b7f7",
   "metadata": {},
   "outputs": [
    {
     "data": {
      "text/plain": [
       "0    284315\n",
       "1       492\n",
       "Name: Class, dtype: int64"
      ]
     },
     "execution_count": 4,
     "metadata": {},
     "output_type": "execute_result"
    }
   ],
   "source": [
    "credit_card['Class'].value_counts()"
   ]
  },
  {
   "cell_type": "markdown",
   "id": "235d2a50",
   "metadata": {},
   "source": [
    "From above result we can tell that the data is unbalanced"
   ]
  },
  {
   "cell_type": "markdown",
   "id": "0cf7933f",
   "metadata": {},
   "source": [
    "Now creating new data set which is balanced for building the model"
   ]
  },
  {
   "cell_type": "code",
   "execution_count": 5,
   "id": "7de9e264",
   "metadata": {},
   "outputs": [],
   "source": [
    "legal = credit_card[credit_card.Class == 0]"
   ]
  },
  {
   "cell_type": "code",
   "execution_count": 6,
   "id": "0ad1d1a0",
   "metadata": {},
   "outputs": [],
   "source": [
    "fraud = credit_card[credit_card.Class == 1]"
   ]
  },
  {
   "cell_type": "markdown",
   "id": "d40e5c3a",
   "metadata": {},
   "source": [
    "Now taking only few samples from the legal data"
   ]
  },
  {
   "cell_type": "code",
   "execution_count": 7,
   "id": "6ec1016e",
   "metadata": {},
   "outputs": [],
   "source": [
    "new_legal = legal.sample(n = 492)"
   ]
  },
  {
   "cell_type": "markdown",
   "id": "f7c6fc42",
   "metadata": {},
   "source": [
    "Now creating new dataset from the reduced data of legal and fraud transactions"
   ]
  },
  {
   "cell_type": "code",
   "execution_count": 8,
   "id": "a7587fe2",
   "metadata": {},
   "outputs": [],
   "source": [
    "new_credit_card = pd.concat([new_legal,fraud])"
   ]
  },
  {
   "cell_type": "code",
   "execution_count": 9,
   "id": "9b2f2884",
   "metadata": {},
   "outputs": [
    {
     "data": {
      "text/html": [
       "<div>\n",
       "<style scoped>\n",
       "    .dataframe tbody tr th:only-of-type {\n",
       "        vertical-align: middle;\n",
       "    }\n",
       "\n",
       "    .dataframe tbody tr th {\n",
       "        vertical-align: top;\n",
       "    }\n",
       "\n",
       "    .dataframe thead th {\n",
       "        text-align: right;\n",
       "    }\n",
       "</style>\n",
       "<table border=\"1\" class=\"dataframe\">\n",
       "  <thead>\n",
       "    <tr style=\"text-align: right;\">\n",
       "      <th></th>\n",
       "      <th>Time</th>\n",
       "      <th>V1</th>\n",
       "      <th>V2</th>\n",
       "      <th>V3</th>\n",
       "      <th>V4</th>\n",
       "      <th>V5</th>\n",
       "      <th>V6</th>\n",
       "      <th>V7</th>\n",
       "      <th>V8</th>\n",
       "      <th>V9</th>\n",
       "      <th>...</th>\n",
       "      <th>V21</th>\n",
       "      <th>V22</th>\n",
       "      <th>V23</th>\n",
       "      <th>V24</th>\n",
       "      <th>V25</th>\n",
       "      <th>V26</th>\n",
       "      <th>V27</th>\n",
       "      <th>V28</th>\n",
       "      <th>Amount</th>\n",
       "      <th>Class</th>\n",
       "    </tr>\n",
       "  </thead>\n",
       "  <tbody>\n",
       "    <tr>\n",
       "      <th>5299</th>\n",
       "      <td>5174.0</td>\n",
       "      <td>-1.099540</td>\n",
       "      <td>-0.139671</td>\n",
       "      <td>1.623854</td>\n",
       "      <td>-0.310035</td>\n",
       "      <td>-2.252651</td>\n",
       "      <td>1.374979</td>\n",
       "      <td>1.806673</td>\n",
       "      <td>-0.195528</td>\n",
       "      <td>1.350469</td>\n",
       "      <td>...</td>\n",
       "      <td>-0.159353</td>\n",
       "      <td>0.002188</td>\n",
       "      <td>0.184613</td>\n",
       "      <td>0.040062</td>\n",
       "      <td>-0.356170</td>\n",
       "      <td>0.902065</td>\n",
       "      <td>0.125368</td>\n",
       "      <td>-0.034955</td>\n",
       "      <td>500.00</td>\n",
       "      <td>0</td>\n",
       "    </tr>\n",
       "    <tr>\n",
       "      <th>8511</th>\n",
       "      <td>11420.0</td>\n",
       "      <td>-0.402882</td>\n",
       "      <td>1.515974</td>\n",
       "      <td>2.150619</td>\n",
       "      <td>2.900177</td>\n",
       "      <td>-0.033952</td>\n",
       "      <td>0.079388</td>\n",
       "      <td>0.333082</td>\n",
       "      <td>0.134993</td>\n",
       "      <td>-0.292746</td>\n",
       "      <td>...</td>\n",
       "      <td>-0.292147</td>\n",
       "      <td>-0.593691</td>\n",
       "      <td>0.036980</td>\n",
       "      <td>0.417048</td>\n",
       "      <td>-0.525484</td>\n",
       "      <td>-0.106153</td>\n",
       "      <td>0.344009</td>\n",
       "      <td>0.186072</td>\n",
       "      <td>4.34</td>\n",
       "      <td>0</td>\n",
       "    </tr>\n",
       "    <tr>\n",
       "      <th>256125</th>\n",
       "      <td>157548.0</td>\n",
       "      <td>-0.482639</td>\n",
       "      <td>0.169882</td>\n",
       "      <td>-0.031977</td>\n",
       "      <td>-2.808843</td>\n",
       "      <td>1.168869</td>\n",
       "      <td>-0.352734</td>\n",
       "      <td>1.594909</td>\n",
       "      <td>-0.438407</td>\n",
       "      <td>-1.912391</td>\n",
       "      <td>...</td>\n",
       "      <td>0.233998</td>\n",
       "      <td>0.496542</td>\n",
       "      <td>-0.701734</td>\n",
       "      <td>-1.370966</td>\n",
       "      <td>1.356873</td>\n",
       "      <td>0.088284</td>\n",
       "      <td>-0.265383</td>\n",
       "      <td>-0.227007</td>\n",
       "      <td>82.00</td>\n",
       "      <td>0</td>\n",
       "    </tr>\n",
       "    <tr>\n",
       "      <th>189991</th>\n",
       "      <td>128640.0</td>\n",
       "      <td>-1.535643</td>\n",
       "      <td>-0.888103</td>\n",
       "      <td>0.801893</td>\n",
       "      <td>-0.627376</td>\n",
       "      <td>1.687012</td>\n",
       "      <td>-0.961929</td>\n",
       "      <td>0.532624</td>\n",
       "      <td>-0.280646</td>\n",
       "      <td>0.557993</td>\n",
       "      <td>...</td>\n",
       "      <td>-0.175339</td>\n",
       "      <td>-0.280979</td>\n",
       "      <td>-0.201788</td>\n",
       "      <td>0.699289</td>\n",
       "      <td>0.043588</td>\n",
       "      <td>-0.144714</td>\n",
       "      <td>-0.113044</td>\n",
       "      <td>-0.045926</td>\n",
       "      <td>99.92</td>\n",
       "      <td>0</td>\n",
       "    </tr>\n",
       "    <tr>\n",
       "      <th>221601</th>\n",
       "      <td>142629.0</td>\n",
       "      <td>-0.038505</td>\n",
       "      <td>0.764303</td>\n",
       "      <td>-0.517801</td>\n",
       "      <td>-0.685428</td>\n",
       "      <td>1.526381</td>\n",
       "      <td>0.645075</td>\n",
       "      <td>0.640600</td>\n",
       "      <td>0.380761</td>\n",
       "      <td>0.042724</td>\n",
       "      <td>...</td>\n",
       "      <td>-0.255130</td>\n",
       "      <td>-0.524701</td>\n",
       "      <td>0.211014</td>\n",
       "      <td>-0.467987</td>\n",
       "      <td>-0.671708</td>\n",
       "      <td>0.212106</td>\n",
       "      <td>0.268836</td>\n",
       "      <td>0.073066</td>\n",
       "      <td>4.49</td>\n",
       "      <td>0</td>\n",
       "    </tr>\n",
       "  </tbody>\n",
       "</table>\n",
       "<p>5 rows × 31 columns</p>\n",
       "</div>"
      ],
      "text/plain": [
       "            Time        V1        V2        V3        V4        V5        V6  \\\n",
       "5299      5174.0 -1.099540 -0.139671  1.623854 -0.310035 -2.252651  1.374979   \n",
       "8511     11420.0 -0.402882  1.515974  2.150619  2.900177 -0.033952  0.079388   \n",
       "256125  157548.0 -0.482639  0.169882 -0.031977 -2.808843  1.168869 -0.352734   \n",
       "189991  128640.0 -1.535643 -0.888103  0.801893 -0.627376  1.687012 -0.961929   \n",
       "221601  142629.0 -0.038505  0.764303 -0.517801 -0.685428  1.526381  0.645075   \n",
       "\n",
       "              V7        V8        V9  ...       V21       V22       V23  \\\n",
       "5299    1.806673 -0.195528  1.350469  ... -0.159353  0.002188  0.184613   \n",
       "8511    0.333082  0.134993 -0.292746  ... -0.292147 -0.593691  0.036980   \n",
       "256125  1.594909 -0.438407 -1.912391  ...  0.233998  0.496542 -0.701734   \n",
       "189991  0.532624 -0.280646  0.557993  ... -0.175339 -0.280979 -0.201788   \n",
       "221601  0.640600  0.380761  0.042724  ... -0.255130 -0.524701  0.211014   \n",
       "\n",
       "             V24       V25       V26       V27       V28  Amount  Class  \n",
       "5299    0.040062 -0.356170  0.902065  0.125368 -0.034955  500.00      0  \n",
       "8511    0.417048 -0.525484 -0.106153  0.344009  0.186072    4.34      0  \n",
       "256125 -1.370966  1.356873  0.088284 -0.265383 -0.227007   82.00      0  \n",
       "189991  0.699289  0.043588 -0.144714 -0.113044 -0.045926   99.92      0  \n",
       "221601 -0.467987 -0.671708  0.212106  0.268836  0.073066    4.49      0  \n",
       "\n",
       "[5 rows x 31 columns]"
      ]
     },
     "execution_count": 9,
     "metadata": {},
     "output_type": "execute_result"
    }
   ],
   "source": [
    "new_credit_card.head()"
   ]
  },
  {
   "cell_type": "markdown",
   "id": "6a845117",
   "metadata": {},
   "source": [
    "spliting the data into x,y "
   ]
  },
  {
   "cell_type": "code",
   "execution_count": 10,
   "id": "5a0ef841",
   "metadata": {},
   "outputs": [],
   "source": [
    "x = new_credit_card.drop(columns='Class')"
   ]
  },
  {
   "cell_type": "code",
   "execution_count": 11,
   "id": "75c33429",
   "metadata": {},
   "outputs": [],
   "source": [
    "y = new_credit_card['Class']"
   ]
  },
  {
   "cell_type": "markdown",
   "id": "728fcf86",
   "metadata": {},
   "source": [
    "Now splitting the data into training data and testing data"
   ]
  },
  {
   "cell_type": "code",
   "execution_count": 12,
   "id": "22750438",
   "metadata": {},
   "outputs": [],
   "source": [
    "x_train,x_test,y_train,y_test = train_test_split(x,y,test_size=0.2,random_state=0,stratify=y)"
   ]
  },
  {
   "cell_type": "code",
   "execution_count": 13,
   "id": "58e7a394",
   "metadata": {},
   "outputs": [],
   "source": [
    "model = RandomForestClassifier(n_estimators=641,random_state=0)"
   ]
  },
  {
   "cell_type": "markdown",
   "id": "a2d3cab8",
   "metadata": {},
   "source": [
    "Fitting the data into the model"
   ]
  },
  {
   "cell_type": "code",
   "execution_count": 14,
   "id": "567c89ec",
   "metadata": {},
   "outputs": [
    {
     "data": {
      "text/html": [
       "<style>#sk-container-id-1 {color: black;}#sk-container-id-1 pre{padding: 0;}#sk-container-id-1 div.sk-toggleable {background-color: white;}#sk-container-id-1 label.sk-toggleable__label {cursor: pointer;display: block;width: 100%;margin-bottom: 0;padding: 0.3em;box-sizing: border-box;text-align: center;}#sk-container-id-1 label.sk-toggleable__label-arrow:before {content: \"▸\";float: left;margin-right: 0.25em;color: #696969;}#sk-container-id-1 label.sk-toggleable__label-arrow:hover:before {color: black;}#sk-container-id-1 div.sk-estimator:hover label.sk-toggleable__label-arrow:before {color: black;}#sk-container-id-1 div.sk-toggleable__content {max-height: 0;max-width: 0;overflow: hidden;text-align: left;background-color: #f0f8ff;}#sk-container-id-1 div.sk-toggleable__content pre {margin: 0.2em;color: black;border-radius: 0.25em;background-color: #f0f8ff;}#sk-container-id-1 input.sk-toggleable__control:checked~div.sk-toggleable__content {max-height: 200px;max-width: 100%;overflow: auto;}#sk-container-id-1 input.sk-toggleable__control:checked~label.sk-toggleable__label-arrow:before {content: \"▾\";}#sk-container-id-1 div.sk-estimator input.sk-toggleable__control:checked~label.sk-toggleable__label {background-color: #d4ebff;}#sk-container-id-1 div.sk-label input.sk-toggleable__control:checked~label.sk-toggleable__label {background-color: #d4ebff;}#sk-container-id-1 input.sk-hidden--visually {border: 0;clip: rect(1px 1px 1px 1px);clip: rect(1px, 1px, 1px, 1px);height: 1px;margin: -1px;overflow: hidden;padding: 0;position: absolute;width: 1px;}#sk-container-id-1 div.sk-estimator {font-family: monospace;background-color: #f0f8ff;border: 1px dotted black;border-radius: 0.25em;box-sizing: border-box;margin-bottom: 0.5em;}#sk-container-id-1 div.sk-estimator:hover {background-color: #d4ebff;}#sk-container-id-1 div.sk-parallel-item::after {content: \"\";width: 100%;border-bottom: 1px solid gray;flex-grow: 1;}#sk-container-id-1 div.sk-label:hover label.sk-toggleable__label {background-color: #d4ebff;}#sk-container-id-1 div.sk-serial::before {content: \"\";position: absolute;border-left: 1px solid gray;box-sizing: border-box;top: 0;bottom: 0;left: 50%;z-index: 0;}#sk-container-id-1 div.sk-serial {display: flex;flex-direction: column;align-items: center;background-color: white;padding-right: 0.2em;padding-left: 0.2em;position: relative;}#sk-container-id-1 div.sk-item {position: relative;z-index: 1;}#sk-container-id-1 div.sk-parallel {display: flex;align-items: stretch;justify-content: center;background-color: white;position: relative;}#sk-container-id-1 div.sk-item::before, #sk-container-id-1 div.sk-parallel-item::before {content: \"\";position: absolute;border-left: 1px solid gray;box-sizing: border-box;top: 0;bottom: 0;left: 50%;z-index: -1;}#sk-container-id-1 div.sk-parallel-item {display: flex;flex-direction: column;z-index: 1;position: relative;background-color: white;}#sk-container-id-1 div.sk-parallel-item:first-child::after {align-self: flex-end;width: 50%;}#sk-container-id-1 div.sk-parallel-item:last-child::after {align-self: flex-start;width: 50%;}#sk-container-id-1 div.sk-parallel-item:only-child::after {width: 0;}#sk-container-id-1 div.sk-dashed-wrapped {border: 1px dashed gray;margin: 0 0.4em 0.5em 0.4em;box-sizing: border-box;padding-bottom: 0.4em;background-color: white;}#sk-container-id-1 div.sk-label label {font-family: monospace;font-weight: bold;display: inline-block;line-height: 1.2em;}#sk-container-id-1 div.sk-label-container {text-align: center;}#sk-container-id-1 div.sk-container {/* jupyter's `normalize.less` sets `[hidden] { display: none; }` but bootstrap.min.css set `[hidden] { display: none !important; }` so we also need the `!important` here to be able to override the default hidden behavior on the sphinx rendered scikit-learn.org. See: https://github.com/scikit-learn/scikit-learn/issues/21755 */display: inline-block !important;position: relative;}#sk-container-id-1 div.sk-text-repr-fallback {display: none;}</style><div id=\"sk-container-id-1\" class=\"sk-top-container\"><div class=\"sk-text-repr-fallback\"><pre>RandomForestClassifier(n_estimators=641, random_state=0)</pre><b>In a Jupyter environment, please rerun this cell to show the HTML representation or trust the notebook. <br />On GitHub, the HTML representation is unable to render, please try loading this page with nbviewer.org.</b></div><div class=\"sk-container\" hidden><div class=\"sk-item\"><div class=\"sk-estimator sk-toggleable\"><input class=\"sk-toggleable__control sk-hidden--visually\" id=\"sk-estimator-id-1\" type=\"checkbox\" checked><label for=\"sk-estimator-id-1\" class=\"sk-toggleable__label sk-toggleable__label-arrow\">RandomForestClassifier</label><div class=\"sk-toggleable__content\"><pre>RandomForestClassifier(n_estimators=641, random_state=0)</pre></div></div></div></div></div>"
      ],
      "text/plain": [
       "RandomForestClassifier(n_estimators=641, random_state=0)"
      ]
     },
     "execution_count": 14,
     "metadata": {},
     "output_type": "execute_result"
    }
   ],
   "source": [
    "model.fit(x_train,y_train)"
   ]
  },
  {
   "cell_type": "markdown",
   "id": "cf7ff9c4",
   "metadata": {},
   "source": [
    "Predicting the train data using the model"
   ]
  },
  {
   "cell_type": "code",
   "execution_count": 15,
   "id": "3801189f",
   "metadata": {},
   "outputs": [],
   "source": [
    "train_predict = model.predict(x_train)"
   ]
  },
  {
   "cell_type": "markdown",
   "id": "28e8b6be",
   "metadata": {},
   "source": [
    "Predicting the test data using the model"
   ]
  },
  {
   "cell_type": "code",
   "execution_count": 16,
   "id": "1ccc7d92",
   "metadata": {},
   "outputs": [],
   "source": [
    "test_predict = model.predict(x_test)"
   ]
  },
  {
   "cell_type": "markdown",
   "id": "eeb02aaa",
   "metadata": {},
   "source": [
    "testing the accuracy"
   ]
  },
  {
   "cell_type": "code",
   "execution_count": 20,
   "id": "31050afb",
   "metadata": {},
   "outputs": [
    {
     "name": "stdout",
     "output_type": "stream",
     "text": [
      "1.0\n"
     ]
    }
   ],
   "source": [
    "# for train data\n",
    "train_accuracy = accuracy_score(train_predict,y_train)\n",
    "print(train_accuracy)"
   ]
  },
  {
   "cell_type": "code",
   "execution_count": 21,
   "id": "4701627f",
   "metadata": {},
   "outputs": [
    {
     "name": "stdout",
     "output_type": "stream",
     "text": [
      "0.9137055837563451\n"
     ]
    }
   ],
   "source": [
    "# for test data \n",
    "test_accuracy = accuracy_score(test_predict,y_test)\n",
    "print(test_accuracy)"
   ]
  },
  {
   "cell_type": "code",
   "execution_count": 23,
   "id": "9451c2c6",
   "metadata": {},
   "outputs": [
    {
     "name": "stdout",
     "output_type": "stream",
     "text": [
      "              precision    recall  f1-score   support\n",
      "\n",
      "           0       1.00      1.00      1.00       393\n",
      "           1       1.00      1.00      1.00       394\n",
      "\n",
      "    accuracy                           1.00       787\n",
      "   macro avg       1.00      1.00      1.00       787\n",
      "weighted avg       1.00      1.00      1.00       787\n",
      "\n"
     ]
    }
   ],
   "source": [
    "# Classification report for train data\n",
    "print(classification_report(train_predict,y_train))"
   ]
  },
  {
   "cell_type": "code",
   "execution_count": 25,
   "id": "cfb34566",
   "metadata": {},
   "outputs": [
    {
     "name": "stdout",
     "output_type": "stream",
     "text": [
      "              precision    recall  f1-score   support\n",
      "\n",
      "           0       0.96      0.88      0.92       108\n",
      "           1       0.87      0.96      0.91        89\n",
      "\n",
      "    accuracy                           0.91       197\n",
      "   macro avg       0.91      0.92      0.91       197\n",
      "weighted avg       0.92      0.91      0.91       197\n",
      "\n"
     ]
    }
   ],
   "source": [
    "# Classification report for test data\n",
    "print(classification_report(test_predict,y_test))"
   ]
  },
  {
   "cell_type": "code",
   "execution_count": null,
   "id": "bebad8a5",
   "metadata": {},
   "outputs": [],
   "source": []
  }
 ],
 "metadata": {
  "kernelspec": {
   "display_name": "Python 3",
   "language": "python",
   "name": "python3"
  },
  "language_info": {
   "codemirror_mode": {
    "name": "ipython",
    "version": 3
   },
   "file_extension": ".py",
   "mimetype": "text/x-python",
   "name": "python",
   "nbconvert_exporter": "python",
   "pygments_lexer": "ipython3",
   "version": "3.11.4"
  }
 },
 "nbformat": 4,
 "nbformat_minor": 5
}
